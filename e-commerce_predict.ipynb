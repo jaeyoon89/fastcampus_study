{
 "cells": [
  {
   "cell_type": "markdown",
   "id": "7db76b74",
   "metadata": {},
   "source": [
    "![](fc.PNG)"
   ]
  },
  {
   "cell_type": "markdown",
   "id": "7c8b7aa0",
   "metadata": {},
   "source": [
    "# [FastCampus] 파이썬을 활용한 이커머스 데이터 분석하기"
   ]
  },
  {
   "cell_type": "markdown",
   "id": "b48ee68e",
   "metadata": {},
   "source": [
    "## Ch02. 고객별 연간 예측 지출액 예측"
   ]
  },
  {
   "cell_type": "markdown",
   "id": "99f114e5",
   "metadata": {},
   "source": [
    "패스트 캠퍼스의 좋은 강의가 있어 이것을 따라해 보면서 기록을 남겨 보았다. "
   ]
  },
  {
   "cell_type": "markdown",
   "id": "8a89803a",
   "metadata": {},
   "source": [
    "### 1. 모듈 및 데이터 로딩하기"
   ]
  },
  {
   "cell_type": "markdown",
   "id": "f403a6eb",
   "metadata": {},
   "source": [
    "먼저 항상 사용하는 4가지 모듈을 미리 임포트 한다."
   ]
  },
  {
   "cell_type": "code",
   "execution_count": 3,
   "id": "aee37c79",
   "metadata": {},
   "outputs": [],
   "source": [
    "import pandas as pd\n",
    "import numpy as np\n",
    "\n",
    "import matplotlib.pyplot as plt\n",
    "import seaborn as sns"
   ]
  },
  {
   "cell_type": "markdown",
   "id": "7d0976e1",
   "metadata": {},
   "source": [
    "먼저 데이터를 불러오자."
   ]
  },
  {
   "cell_type": "code",
   "execution_count": 4,
   "id": "904976f0",
   "metadata": {},
   "outputs": [],
   "source": [
    "data = pd.read_csv('ecommerce.csv')"
   ]
  },
  {
   "cell_type": "code",
   "execution_count": 5,
   "id": "33cbf6ab",
   "metadata": {},
   "outputs": [
    {
     "data": {
      "text/html": [
       "<div>\n",
       "<style scoped>\n",
       "    .dataframe tbody tr th:only-of-type {\n",
       "        vertical-align: middle;\n",
       "    }\n",
       "\n",
       "    .dataframe tbody tr th {\n",
       "        vertical-align: top;\n",
       "    }\n",
       "\n",
       "    .dataframe thead th {\n",
       "        text-align: right;\n",
       "    }\n",
       "</style>\n",
       "<table border=\"1\" class=\"dataframe\">\n",
       "  <thead>\n",
       "    <tr style=\"text-align: right;\">\n",
       "      <th></th>\n",
       "      <th>Email</th>\n",
       "      <th>Address</th>\n",
       "      <th>Avatar</th>\n",
       "      <th>Avg. Session Length</th>\n",
       "      <th>Time on App</th>\n",
       "      <th>Time on Website</th>\n",
       "      <th>Length of Membership</th>\n",
       "      <th>Yearly Amount Spent</th>\n",
       "    </tr>\n",
       "  </thead>\n",
       "  <tbody>\n",
       "    <tr>\n",
       "      <th>0</th>\n",
       "      <td>mstephenson@fernandez.com</td>\n",
       "      <td>835 Frank Tunnel\\nWrightmouth, MI 82180-9605</td>\n",
       "      <td>Violet</td>\n",
       "      <td>34.497268</td>\n",
       "      <td>12.655651</td>\n",
       "      <td>39.577668</td>\n",
       "      <td>4.082621</td>\n",
       "      <td>587.951054</td>\n",
       "    </tr>\n",
       "    <tr>\n",
       "      <th>1</th>\n",
       "      <td>hduke@hotmail.com</td>\n",
       "      <td>4547 Archer Common\\nDiazchester, CA 06566-8576</td>\n",
       "      <td>DarkGreen</td>\n",
       "      <td>31.926272</td>\n",
       "      <td>11.109461</td>\n",
       "      <td>37.268959</td>\n",
       "      <td>2.664034</td>\n",
       "      <td>392.204933</td>\n",
       "    </tr>\n",
       "    <tr>\n",
       "      <th>2</th>\n",
       "      <td>pallen@yahoo.com</td>\n",
       "      <td>24645 Valerie Unions Suite 582\\nCobbborough, D...</td>\n",
       "      <td>Bisque</td>\n",
       "      <td>33.000915</td>\n",
       "      <td>11.330278</td>\n",
       "      <td>37.110597</td>\n",
       "      <td>4.104543</td>\n",
       "      <td>487.547505</td>\n",
       "    </tr>\n",
       "    <tr>\n",
       "      <th>3</th>\n",
       "      <td>riverarebecca@gmail.com</td>\n",
       "      <td>1414 David Throughway\\nPort Jason, OH 22070-1220</td>\n",
       "      <td>SaddleBrown</td>\n",
       "      <td>34.305557</td>\n",
       "      <td>13.717514</td>\n",
       "      <td>36.721283</td>\n",
       "      <td>3.120179</td>\n",
       "      <td>581.852344</td>\n",
       "    </tr>\n",
       "    <tr>\n",
       "      <th>4</th>\n",
       "      <td>mstephens@davidson-herman.com</td>\n",
       "      <td>14023 Rodriguez Passage\\nPort Jacobville, PR 3...</td>\n",
       "      <td>MediumAquaMarine</td>\n",
       "      <td>33.330673</td>\n",
       "      <td>12.795189</td>\n",
       "      <td>37.536653</td>\n",
       "      <td>4.446308</td>\n",
       "      <td>599.406092</td>\n",
       "    </tr>\n",
       "    <tr>\n",
       "      <th>...</th>\n",
       "      <td>...</td>\n",
       "      <td>...</td>\n",
       "      <td>...</td>\n",
       "      <td>...</td>\n",
       "      <td>...</td>\n",
       "      <td>...</td>\n",
       "      <td>...</td>\n",
       "      <td>...</td>\n",
       "    </tr>\n",
       "    <tr>\n",
       "      <th>495</th>\n",
       "      <td>lewisjessica@craig-evans.com</td>\n",
       "      <td>4483 Jones Motorway Suite 872\\nLake Jamiefurt,...</td>\n",
       "      <td>Tan</td>\n",
       "      <td>33.237660</td>\n",
       "      <td>13.566160</td>\n",
       "      <td>36.417985</td>\n",
       "      <td>3.746573</td>\n",
       "      <td>573.847438</td>\n",
       "    </tr>\n",
       "    <tr>\n",
       "      <th>496</th>\n",
       "      <td>katrina56@gmail.com</td>\n",
       "      <td>172 Owen Divide Suite 497\\nWest Richard, CA 19320</td>\n",
       "      <td>PaleVioletRed</td>\n",
       "      <td>34.702529</td>\n",
       "      <td>11.695736</td>\n",
       "      <td>37.190268</td>\n",
       "      <td>3.576526</td>\n",
       "      <td>529.049004</td>\n",
       "    </tr>\n",
       "    <tr>\n",
       "      <th>497</th>\n",
       "      <td>dale88@hotmail.com</td>\n",
       "      <td>0787 Andrews Ranch Apt. 633\\nSouth Chadburgh, ...</td>\n",
       "      <td>Cornsilk</td>\n",
       "      <td>32.646777</td>\n",
       "      <td>11.499409</td>\n",
       "      <td>38.332576</td>\n",
       "      <td>4.958264</td>\n",
       "      <td>551.620145</td>\n",
       "    </tr>\n",
       "    <tr>\n",
       "      <th>498</th>\n",
       "      <td>cwilson@hotmail.com</td>\n",
       "      <td>680 Jennifer Lodge Apt. 808\\nBrendachester, TX...</td>\n",
       "      <td>Teal</td>\n",
       "      <td>33.322501</td>\n",
       "      <td>12.391423</td>\n",
       "      <td>36.840086</td>\n",
       "      <td>2.336485</td>\n",
       "      <td>456.469510</td>\n",
       "    </tr>\n",
       "    <tr>\n",
       "      <th>499</th>\n",
       "      <td>hannahwilson@davidson.com</td>\n",
       "      <td>49791 Rachel Heights Apt. 898\\nEast Drewboroug...</td>\n",
       "      <td>DarkMagenta</td>\n",
       "      <td>33.715981</td>\n",
       "      <td>12.418808</td>\n",
       "      <td>35.771016</td>\n",
       "      <td>2.735160</td>\n",
       "      <td>497.778642</td>\n",
       "    </tr>\n",
       "  </tbody>\n",
       "</table>\n",
       "<p>500 rows × 8 columns</p>\n",
       "</div>"
      ],
      "text/plain": [
       "                             Email  \\\n",
       "0        mstephenson@fernandez.com   \n",
       "1                hduke@hotmail.com   \n",
       "2                 pallen@yahoo.com   \n",
       "3          riverarebecca@gmail.com   \n",
       "4    mstephens@davidson-herman.com   \n",
       "..                             ...   \n",
       "495   lewisjessica@craig-evans.com   \n",
       "496            katrina56@gmail.com   \n",
       "497             dale88@hotmail.com   \n",
       "498            cwilson@hotmail.com   \n",
       "499      hannahwilson@davidson.com   \n",
       "\n",
       "                                               Address            Avatar  \\\n",
       "0         835 Frank Tunnel\\nWrightmouth, MI 82180-9605            Violet   \n",
       "1       4547 Archer Common\\nDiazchester, CA 06566-8576         DarkGreen   \n",
       "2    24645 Valerie Unions Suite 582\\nCobbborough, D...            Bisque   \n",
       "3     1414 David Throughway\\nPort Jason, OH 22070-1220       SaddleBrown   \n",
       "4    14023 Rodriguez Passage\\nPort Jacobville, PR 3...  MediumAquaMarine   \n",
       "..                                                 ...               ...   \n",
       "495  4483 Jones Motorway Suite 872\\nLake Jamiefurt,...               Tan   \n",
       "496  172 Owen Divide Suite 497\\nWest Richard, CA 19320     PaleVioletRed   \n",
       "497  0787 Andrews Ranch Apt. 633\\nSouth Chadburgh, ...          Cornsilk   \n",
       "498  680 Jennifer Lodge Apt. 808\\nBrendachester, TX...              Teal   \n",
       "499  49791 Rachel Heights Apt. 898\\nEast Drewboroug...       DarkMagenta   \n",
       "\n",
       "     Avg. Session Length  Time on App  Time on Website  Length of Membership  \\\n",
       "0              34.497268    12.655651        39.577668              4.082621   \n",
       "1              31.926272    11.109461        37.268959              2.664034   \n",
       "2              33.000915    11.330278        37.110597              4.104543   \n",
       "3              34.305557    13.717514        36.721283              3.120179   \n",
       "4              33.330673    12.795189        37.536653              4.446308   \n",
       "..                   ...          ...              ...                   ...   \n",
       "495            33.237660    13.566160        36.417985              3.746573   \n",
       "496            34.702529    11.695736        37.190268              3.576526   \n",
       "497            32.646777    11.499409        38.332576              4.958264   \n",
       "498            33.322501    12.391423        36.840086              2.336485   \n",
       "499            33.715981    12.418808        35.771016              2.735160   \n",
       "\n",
       "     Yearly Amount Spent  \n",
       "0             587.951054  \n",
       "1             392.204933  \n",
       "2             487.547505  \n",
       "3             581.852344  \n",
       "4             599.406092  \n",
       "..                   ...  \n",
       "495           573.847438  \n",
       "496           529.049004  \n",
       "497           551.620145  \n",
       "498           456.469510  \n",
       "499           497.778642  \n",
       "\n",
       "[500 rows x 8 columns]"
      ]
     },
     "execution_count": 5,
     "metadata": {},
     "output_type": "execute_result"
    }
   ],
   "source": [
    "data"
   ]
  },
  {
   "cell_type": "markdown",
   "id": "f8ad6df1",
   "metadata": {},
   "source": [
    "head()는 데이터 프레임의 앞부분 5개 까지만 출력해준다."
   ]
  },
  {
   "cell_type": "code",
   "execution_count": 6,
   "id": "2b42f76b",
   "metadata": {},
   "outputs": [
    {
     "data": {
      "text/html": [
       "<div>\n",
       "<style scoped>\n",
       "    .dataframe tbody tr th:only-of-type {\n",
       "        vertical-align: middle;\n",
       "    }\n",
       "\n",
       "    .dataframe tbody tr th {\n",
       "        vertical-align: top;\n",
       "    }\n",
       "\n",
       "    .dataframe thead th {\n",
       "        text-align: right;\n",
       "    }\n",
       "</style>\n",
       "<table border=\"1\" class=\"dataframe\">\n",
       "  <thead>\n",
       "    <tr style=\"text-align: right;\">\n",
       "      <th></th>\n",
       "      <th>Email</th>\n",
       "      <th>Address</th>\n",
       "      <th>Avatar</th>\n",
       "      <th>Avg. Session Length</th>\n",
       "      <th>Time on App</th>\n",
       "      <th>Time on Website</th>\n",
       "      <th>Length of Membership</th>\n",
       "      <th>Yearly Amount Spent</th>\n",
       "    </tr>\n",
       "  </thead>\n",
       "  <tbody>\n",
       "    <tr>\n",
       "      <th>0</th>\n",
       "      <td>mstephenson@fernandez.com</td>\n",
       "      <td>835 Frank Tunnel\\nWrightmouth, MI 82180-9605</td>\n",
       "      <td>Violet</td>\n",
       "      <td>34.497268</td>\n",
       "      <td>12.655651</td>\n",
       "      <td>39.577668</td>\n",
       "      <td>4.082621</td>\n",
       "      <td>587.951054</td>\n",
       "    </tr>\n",
       "    <tr>\n",
       "      <th>1</th>\n",
       "      <td>hduke@hotmail.com</td>\n",
       "      <td>4547 Archer Common\\nDiazchester, CA 06566-8576</td>\n",
       "      <td>DarkGreen</td>\n",
       "      <td>31.926272</td>\n",
       "      <td>11.109461</td>\n",
       "      <td>37.268959</td>\n",
       "      <td>2.664034</td>\n",
       "      <td>392.204933</td>\n",
       "    </tr>\n",
       "    <tr>\n",
       "      <th>2</th>\n",
       "      <td>pallen@yahoo.com</td>\n",
       "      <td>24645 Valerie Unions Suite 582\\nCobbborough, D...</td>\n",
       "      <td>Bisque</td>\n",
       "      <td>33.000915</td>\n",
       "      <td>11.330278</td>\n",
       "      <td>37.110597</td>\n",
       "      <td>4.104543</td>\n",
       "      <td>487.547505</td>\n",
       "    </tr>\n",
       "    <tr>\n",
       "      <th>3</th>\n",
       "      <td>riverarebecca@gmail.com</td>\n",
       "      <td>1414 David Throughway\\nPort Jason, OH 22070-1220</td>\n",
       "      <td>SaddleBrown</td>\n",
       "      <td>34.305557</td>\n",
       "      <td>13.717514</td>\n",
       "      <td>36.721283</td>\n",
       "      <td>3.120179</td>\n",
       "      <td>581.852344</td>\n",
       "    </tr>\n",
       "    <tr>\n",
       "      <th>4</th>\n",
       "      <td>mstephens@davidson-herman.com</td>\n",
       "      <td>14023 Rodriguez Passage\\nPort Jacobville, PR 3...</td>\n",
       "      <td>MediumAquaMarine</td>\n",
       "      <td>33.330673</td>\n",
       "      <td>12.795189</td>\n",
       "      <td>37.536653</td>\n",
       "      <td>4.446308</td>\n",
       "      <td>599.406092</td>\n",
       "    </tr>\n",
       "  </tbody>\n",
       "</table>\n",
       "</div>"
      ],
      "text/plain": [
       "                           Email  \\\n",
       "0      mstephenson@fernandez.com   \n",
       "1              hduke@hotmail.com   \n",
       "2               pallen@yahoo.com   \n",
       "3        riverarebecca@gmail.com   \n",
       "4  mstephens@davidson-herman.com   \n",
       "\n",
       "                                             Address            Avatar  \\\n",
       "0       835 Frank Tunnel\\nWrightmouth, MI 82180-9605            Violet   \n",
       "1     4547 Archer Common\\nDiazchester, CA 06566-8576         DarkGreen   \n",
       "2  24645 Valerie Unions Suite 582\\nCobbborough, D...            Bisque   \n",
       "3   1414 David Throughway\\nPort Jason, OH 22070-1220       SaddleBrown   \n",
       "4  14023 Rodriguez Passage\\nPort Jacobville, PR 3...  MediumAquaMarine   \n",
       "\n",
       "   Avg. Session Length  Time on App  Time on Website  Length of Membership  \\\n",
       "0            34.497268    12.655651        39.577668              4.082621   \n",
       "1            31.926272    11.109461        37.268959              2.664034   \n",
       "2            33.000915    11.330278        37.110597              4.104543   \n",
       "3            34.305557    13.717514        36.721283              3.120179   \n",
       "4            33.330673    12.795189        37.536653              4.446308   \n",
       "\n",
       "   Yearly Amount Spent  \n",
       "0           587.951054  \n",
       "1           392.204933  \n",
       "2           487.547505  \n",
       "3           581.852344  \n",
       "4           599.406092  "
      ]
     },
     "execution_count": 6,
     "metadata": {},
     "output_type": "execute_result"
    }
   ],
   "source": [
    "data.head()"
   ]
  },
  {
   "cell_type": "markdown",
   "id": "26a9dfe3",
   "metadata": {},
   "source": [
    "컬럼이 뜻하는 바를 확인해보자.\n",
    "\n",
    "- Email : 고객의 이메일 주소\n",
    "- Address : 고객이 사는 주소\n",
    "- Avatar : 고객의 아바타 캐릭터\n",
    "- Avb.Session Length : 고객의 접속한 시간의 평균\n",
    "- Time on App : 어플리케이션에서 사용한 시간\n",
    "- Time on Website : 웹 사이트에서 사용한 시간\n",
    "- Length of Membership : 고객의 맴버쉽 가입 기간\n",
    "- Yearly Amount Spent : 고객이 연간 쓴 금액\n"
   ]
  },
  {
   "cell_type": "markdown",
   "id": "e6d1ca72",
   "metadata": {},
   "source": [
    "데이터의 컬럼을 살펴본 결과 우리는 Yearly Amount Spent를 예측해야 한다는 것을 알 수 있다."
   ]
  },
  {
   "cell_type": "markdown",
   "id": "26d5ac5f",
   "metadata": {},
   "source": [
    "### 2. 데이터 특성 확인하기"
   ]
  },
  {
   "cell_type": "markdown",
   "id": "9921e0b3",
   "metadata": {},
   "source": [
    "info() 메서드로 각 컬럼의 정보를 확인해 보자."
   ]
  },
  {
   "cell_type": "code",
   "execution_count": 7,
   "id": "2e3be6e2",
   "metadata": {},
   "outputs": [
    {
     "name": "stdout",
     "output_type": "stream",
     "text": [
      "<class 'pandas.core.frame.DataFrame'>\n",
      "RangeIndex: 500 entries, 0 to 499\n",
      "Data columns (total 8 columns):\n",
      " #   Column                Non-Null Count  Dtype  \n",
      "---  ------                --------------  -----  \n",
      " 0   Email                 500 non-null    object \n",
      " 1   Address               500 non-null    object \n",
      " 2   Avatar                500 non-null    object \n",
      " 3   Avg. Session Length   500 non-null    float64\n",
      " 4   Time on App           500 non-null    float64\n",
      " 5   Time on Website       500 non-null    float64\n",
      " 6   Length of Membership  500 non-null    float64\n",
      " 7   Yearly Amount Spent   500 non-null    float64\n",
      "dtypes: float64(5), object(3)\n",
      "memory usage: 31.4+ KB\n"
     ]
    }
   ],
   "source": [
    "data.info()"
   ]
  },
  {
   "cell_type": "markdown",
   "id": "4329d700",
   "metadata": {},
   "source": [
    "전체 컬럼의 결측값이 한 개도 없다는 것을 확인할 수 있다."
   ]
  },
  {
   "cell_type": "markdown",
   "id": "46ca4d4f",
   "metadata": {},
   "source": [
    "- object : text로 된 정보들\n",
    "- float64 : 숫자로 된 정보들 (소수점이 들어있는 숫자)"
   ]
  },
  {
   "cell_type": "markdown",
   "id": "1e0f40b7",
   "metadata": {},
   "source": [
    "describe() 메서드로는 각 컬럼의 전반적인 수치들을 알 수 있다. 이러한 스케일들을 확인하면 데이터를 분석하는데 도움이 된다."
   ]
  },
  {
   "cell_type": "code",
   "execution_count": 8,
   "id": "6b108769",
   "metadata": {},
   "outputs": [
    {
     "data": {
      "text/html": [
       "<div>\n",
       "<style scoped>\n",
       "    .dataframe tbody tr th:only-of-type {\n",
       "        vertical-align: middle;\n",
       "    }\n",
       "\n",
       "    .dataframe tbody tr th {\n",
       "        vertical-align: top;\n",
       "    }\n",
       "\n",
       "    .dataframe thead th {\n",
       "        text-align: right;\n",
       "    }\n",
       "</style>\n",
       "<table border=\"1\" class=\"dataframe\">\n",
       "  <thead>\n",
       "    <tr style=\"text-align: right;\">\n",
       "      <th></th>\n",
       "      <th>Avg. Session Length</th>\n",
       "      <th>Time on App</th>\n",
       "      <th>Time on Website</th>\n",
       "      <th>Length of Membership</th>\n",
       "      <th>Yearly Amount Spent</th>\n",
       "    </tr>\n",
       "  </thead>\n",
       "  <tbody>\n",
       "    <tr>\n",
       "      <th>count</th>\n",
       "      <td>500.000000</td>\n",
       "      <td>500.000000</td>\n",
       "      <td>500.000000</td>\n",
       "      <td>500.000000</td>\n",
       "      <td>500.000000</td>\n",
       "    </tr>\n",
       "    <tr>\n",
       "      <th>mean</th>\n",
       "      <td>33.053194</td>\n",
       "      <td>12.052488</td>\n",
       "      <td>37.060445</td>\n",
       "      <td>3.533462</td>\n",
       "      <td>499.314038</td>\n",
       "    </tr>\n",
       "    <tr>\n",
       "      <th>std</th>\n",
       "      <td>0.992563</td>\n",
       "      <td>0.994216</td>\n",
       "      <td>1.010489</td>\n",
       "      <td>0.999278</td>\n",
       "      <td>79.314782</td>\n",
       "    </tr>\n",
       "    <tr>\n",
       "      <th>min</th>\n",
       "      <td>29.532429</td>\n",
       "      <td>8.508152</td>\n",
       "      <td>33.913847</td>\n",
       "      <td>0.269901</td>\n",
       "      <td>256.670582</td>\n",
       "    </tr>\n",
       "    <tr>\n",
       "      <th>25%</th>\n",
       "      <td>32.341822</td>\n",
       "      <td>11.388153</td>\n",
       "      <td>36.349257</td>\n",
       "      <td>2.930450</td>\n",
       "      <td>445.038277</td>\n",
       "    </tr>\n",
       "    <tr>\n",
       "      <th>50%</th>\n",
       "      <td>33.082008</td>\n",
       "      <td>11.983231</td>\n",
       "      <td>37.069367</td>\n",
       "      <td>3.533975</td>\n",
       "      <td>498.887875</td>\n",
       "    </tr>\n",
       "    <tr>\n",
       "      <th>75%</th>\n",
       "      <td>33.711985</td>\n",
       "      <td>12.753850</td>\n",
       "      <td>37.716432</td>\n",
       "      <td>4.126502</td>\n",
       "      <td>549.313828</td>\n",
       "    </tr>\n",
       "    <tr>\n",
       "      <th>max</th>\n",
       "      <td>36.139662</td>\n",
       "      <td>15.126994</td>\n",
       "      <td>40.005182</td>\n",
       "      <td>6.922689</td>\n",
       "      <td>765.518462</td>\n",
       "    </tr>\n",
       "  </tbody>\n",
       "</table>\n",
       "</div>"
      ],
      "text/plain": [
       "       Avg. Session Length  Time on App  Time on Website  \\\n",
       "count           500.000000   500.000000       500.000000   \n",
       "mean             33.053194    12.052488        37.060445   \n",
       "std               0.992563     0.994216         1.010489   \n",
       "min              29.532429     8.508152        33.913847   \n",
       "25%              32.341822    11.388153        36.349257   \n",
       "50%              33.082008    11.983231        37.069367   \n",
       "75%              33.711985    12.753850        37.716432   \n",
       "max              36.139662    15.126994        40.005182   \n",
       "\n",
       "       Length of Membership  Yearly Amount Spent  \n",
       "count            500.000000           500.000000  \n",
       "mean               3.533462           499.314038  \n",
       "std                0.999278            79.314782  \n",
       "min                0.269901           256.670582  \n",
       "25%                2.930450           445.038277  \n",
       "50%                3.533975           498.887875  \n",
       "75%                4.126502           549.313828  \n",
       "max                6.922689           765.518462  "
      ]
     },
     "execution_count": 8,
     "metadata": {},
     "output_type": "execute_result"
    }
   ],
   "source": [
    "data.describe()"
   ]
  },
  {
   "cell_type": "markdown",
   "id": "98726137",
   "metadata": {},
   "source": [
    "outlier가 있을 때는 75%의 값과 max의 값의 차이가 일관적이지 않고 많이 나게 된다. "
   ]
  },
  {
   "cell_type": "markdown",
   "id": "657b27d1",
   "metadata": {},
   "source": [
    "### 3. 불필요한 변수 버리기"
   ]
  },
  {
   "cell_type": "markdown",
   "id": "144a99af",
   "metadata": {},
   "source": [
    "먼저 불필요한 변수를 버리는 작업이 필요하다. 머신러닝을 사용할 때는 텍스트 데이터를 확인해 봐야한다. 모델링에 있어 의미가 없으면 사용하지 않는 것이 좋다."
   ]
  },
  {
   "cell_type": "markdown",
   "id": "b3fc1d1d",
   "metadata": {},
   "source": [
    "Yearly Amount spent를 예측하는데 있어 text 데이터인 Email, Address, Avatar는 필요가 없어보인다."
   ]
  },
  {
   "cell_type": "markdown",
   "id": "b6c0bbb8",
   "metadata": {},
   "source": [
    "아래의 코드를 입력하면 text 데이터들이 떨어져 나가고 숫자 데이터만 남게 된다."
   ]
  },
  {
   "cell_type": "code",
   "execution_count": 12,
   "id": "313de0cb",
   "metadata": {},
   "outputs": [],
   "source": [
    "data = data[['Avg. Session Length','Time on App','Time on Website','Length of Membership','Yearly Amount Spent']]"
   ]
  },
  {
   "cell_type": "code",
   "execution_count": 13,
   "id": "3b526cdb",
   "metadata": {},
   "outputs": [
    {
     "data": {
      "text/html": [
       "<div>\n",
       "<style scoped>\n",
       "    .dataframe tbody tr th:only-of-type {\n",
       "        vertical-align: middle;\n",
       "    }\n",
       "\n",
       "    .dataframe tbody tr th {\n",
       "        vertical-align: top;\n",
       "    }\n",
       "\n",
       "    .dataframe thead th {\n",
       "        text-align: right;\n",
       "    }\n",
       "</style>\n",
       "<table border=\"1\" class=\"dataframe\">\n",
       "  <thead>\n",
       "    <tr style=\"text-align: right;\">\n",
       "      <th></th>\n",
       "      <th>Avg. Session Length</th>\n",
       "      <th>Time on App</th>\n",
       "      <th>Time on Website</th>\n",
       "      <th>Length of Membership</th>\n",
       "      <th>Yearly Amount Spent</th>\n",
       "    </tr>\n",
       "  </thead>\n",
       "  <tbody>\n",
       "    <tr>\n",
       "      <th>0</th>\n",
       "      <td>34.497268</td>\n",
       "      <td>12.655651</td>\n",
       "      <td>39.577668</td>\n",
       "      <td>4.082621</td>\n",
       "      <td>587.951054</td>\n",
       "    </tr>\n",
       "    <tr>\n",
       "      <th>1</th>\n",
       "      <td>31.926272</td>\n",
       "      <td>11.109461</td>\n",
       "      <td>37.268959</td>\n",
       "      <td>2.664034</td>\n",
       "      <td>392.204933</td>\n",
       "    </tr>\n",
       "    <tr>\n",
       "      <th>2</th>\n",
       "      <td>33.000915</td>\n",
       "      <td>11.330278</td>\n",
       "      <td>37.110597</td>\n",
       "      <td>4.104543</td>\n",
       "      <td>487.547505</td>\n",
       "    </tr>\n",
       "    <tr>\n",
       "      <th>3</th>\n",
       "      <td>34.305557</td>\n",
       "      <td>13.717514</td>\n",
       "      <td>36.721283</td>\n",
       "      <td>3.120179</td>\n",
       "      <td>581.852344</td>\n",
       "    </tr>\n",
       "    <tr>\n",
       "      <th>4</th>\n",
       "      <td>33.330673</td>\n",
       "      <td>12.795189</td>\n",
       "      <td>37.536653</td>\n",
       "      <td>4.446308</td>\n",
       "      <td>599.406092</td>\n",
       "    </tr>\n",
       "    <tr>\n",
       "      <th>...</th>\n",
       "      <td>...</td>\n",
       "      <td>...</td>\n",
       "      <td>...</td>\n",
       "      <td>...</td>\n",
       "      <td>...</td>\n",
       "    </tr>\n",
       "    <tr>\n",
       "      <th>495</th>\n",
       "      <td>33.237660</td>\n",
       "      <td>13.566160</td>\n",
       "      <td>36.417985</td>\n",
       "      <td>3.746573</td>\n",
       "      <td>573.847438</td>\n",
       "    </tr>\n",
       "    <tr>\n",
       "      <th>496</th>\n",
       "      <td>34.702529</td>\n",
       "      <td>11.695736</td>\n",
       "      <td>37.190268</td>\n",
       "      <td>3.576526</td>\n",
       "      <td>529.049004</td>\n",
       "    </tr>\n",
       "    <tr>\n",
       "      <th>497</th>\n",
       "      <td>32.646777</td>\n",
       "      <td>11.499409</td>\n",
       "      <td>38.332576</td>\n",
       "      <td>4.958264</td>\n",
       "      <td>551.620145</td>\n",
       "    </tr>\n",
       "    <tr>\n",
       "      <th>498</th>\n",
       "      <td>33.322501</td>\n",
       "      <td>12.391423</td>\n",
       "      <td>36.840086</td>\n",
       "      <td>2.336485</td>\n",
       "      <td>456.469510</td>\n",
       "    </tr>\n",
       "    <tr>\n",
       "      <th>499</th>\n",
       "      <td>33.715981</td>\n",
       "      <td>12.418808</td>\n",
       "      <td>35.771016</td>\n",
       "      <td>2.735160</td>\n",
       "      <td>497.778642</td>\n",
       "    </tr>\n",
       "  </tbody>\n",
       "</table>\n",
       "<p>500 rows × 5 columns</p>\n",
       "</div>"
      ],
      "text/plain": [
       "     Avg. Session Length  Time on App  Time on Website  Length of Membership  \\\n",
       "0              34.497268    12.655651        39.577668              4.082621   \n",
       "1              31.926272    11.109461        37.268959              2.664034   \n",
       "2              33.000915    11.330278        37.110597              4.104543   \n",
       "3              34.305557    13.717514        36.721283              3.120179   \n",
       "4              33.330673    12.795189        37.536653              4.446308   \n",
       "..                   ...          ...              ...                   ...   \n",
       "495            33.237660    13.566160        36.417985              3.746573   \n",
       "496            34.702529    11.695736        37.190268              3.576526   \n",
       "497            32.646777    11.499409        38.332576              4.958264   \n",
       "498            33.322501    12.391423        36.840086              2.336485   \n",
       "499            33.715981    12.418808        35.771016              2.735160   \n",
       "\n",
       "     Yearly Amount Spent  \n",
       "0             587.951054  \n",
       "1             392.204933  \n",
       "2             487.547505  \n",
       "3             581.852344  \n",
       "4             599.406092  \n",
       "..                   ...  \n",
       "495           573.847438  \n",
       "496           529.049004  \n",
       "497           551.620145  \n",
       "498           456.469510  \n",
       "499           497.778642  \n",
       "\n",
       "[500 rows x 5 columns]"
      ]
     },
     "execution_count": 13,
     "metadata": {},
     "output_type": "execute_result"
    }
   ],
   "source": [
    "data"
   ]
  },
  {
   "cell_type": "markdown",
   "id": "82c307b0",
   "metadata": {},
   "source": [
    "### 4. Trian, Test set 나누기"
   ]
  },
  {
   "cell_type": "markdown",
   "id": "7a5d0a6a",
   "metadata": {},
   "source": [
    "새로운 데이터를 테스트하기 전에 가지고 있는 데이터에서 20 ~ 30 % 테스트 데이터를 떼어논 다음 남아있는 70 ~ 80 % 데이터로 훈련을 한다. 그리고 나서 떼어 놓았던 20 ~ 30 %의 데이터를 새로운 데이터인 마냥 테스트를 하게 된다. 20 ~ 30 % 떼어낸 데이터는 이미 알고 있어 모델링 한 결과가 훈련 set 에만 잘 맞는지 미래에 다가올 데이터에도 잘 작동을 하는지 볼 수 있게된다. "
   ]
  },
  {
   "cell_type": "markdown",
   "id": "547feec2",
   "metadata": {},
   "source": [
    "sklearn의 하위 모델인 model_selection 을 입력한 후 train_test_split을 임포트 한다. 아래 코드처럼 모듈을 불러와야 메모리 낭비를 하지 않게 된다."
   ]
  },
  {
   "cell_type": "code",
   "execution_count": 14,
   "id": "92cf56c8",
   "metadata": {},
   "outputs": [],
   "source": [
    "from sklearn.model_selection import train_test_split"
   ]
  },
  {
   "cell_type": "code",
   "execution_count": 16,
   "id": "28d1f47a",
   "metadata": {},
   "outputs": [
    {
     "data": {
      "text/html": [
       "<div>\n",
       "<style scoped>\n",
       "    .dataframe tbody tr th:only-of-type {\n",
       "        vertical-align: middle;\n",
       "    }\n",
       "\n",
       "    .dataframe tbody tr th {\n",
       "        vertical-align: top;\n",
       "    }\n",
       "\n",
       "    .dataframe thead th {\n",
       "        text-align: right;\n",
       "    }\n",
       "</style>\n",
       "<table border=\"1\" class=\"dataframe\">\n",
       "  <thead>\n",
       "    <tr style=\"text-align: right;\">\n",
       "      <th></th>\n",
       "      <th>Avg. Session Length</th>\n",
       "      <th>Time on App</th>\n",
       "      <th>Time on Website</th>\n",
       "      <th>Length of Membership</th>\n",
       "      <th>Yearly Amount Spent</th>\n",
       "    </tr>\n",
       "  </thead>\n",
       "  <tbody>\n",
       "    <tr>\n",
       "      <th>0</th>\n",
       "      <td>34.497268</td>\n",
       "      <td>12.655651</td>\n",
       "      <td>39.577668</td>\n",
       "      <td>4.082621</td>\n",
       "      <td>587.951054</td>\n",
       "    </tr>\n",
       "    <tr>\n",
       "      <th>1</th>\n",
       "      <td>31.926272</td>\n",
       "      <td>11.109461</td>\n",
       "      <td>37.268959</td>\n",
       "      <td>2.664034</td>\n",
       "      <td>392.204933</td>\n",
       "    </tr>\n",
       "    <tr>\n",
       "      <th>2</th>\n",
       "      <td>33.000915</td>\n",
       "      <td>11.330278</td>\n",
       "      <td>37.110597</td>\n",
       "      <td>4.104543</td>\n",
       "      <td>487.547505</td>\n",
       "    </tr>\n",
       "    <tr>\n",
       "      <th>3</th>\n",
       "      <td>34.305557</td>\n",
       "      <td>13.717514</td>\n",
       "      <td>36.721283</td>\n",
       "      <td>3.120179</td>\n",
       "      <td>581.852344</td>\n",
       "    </tr>\n",
       "    <tr>\n",
       "      <th>4</th>\n",
       "      <td>33.330673</td>\n",
       "      <td>12.795189</td>\n",
       "      <td>37.536653</td>\n",
       "      <td>4.446308</td>\n",
       "      <td>599.406092</td>\n",
       "    </tr>\n",
       "    <tr>\n",
       "      <th>...</th>\n",
       "      <td>...</td>\n",
       "      <td>...</td>\n",
       "      <td>...</td>\n",
       "      <td>...</td>\n",
       "      <td>...</td>\n",
       "    </tr>\n",
       "    <tr>\n",
       "      <th>495</th>\n",
       "      <td>33.237660</td>\n",
       "      <td>13.566160</td>\n",
       "      <td>36.417985</td>\n",
       "      <td>3.746573</td>\n",
       "      <td>573.847438</td>\n",
       "    </tr>\n",
       "    <tr>\n",
       "      <th>496</th>\n",
       "      <td>34.702529</td>\n",
       "      <td>11.695736</td>\n",
       "      <td>37.190268</td>\n",
       "      <td>3.576526</td>\n",
       "      <td>529.049004</td>\n",
       "    </tr>\n",
       "    <tr>\n",
       "      <th>497</th>\n",
       "      <td>32.646777</td>\n",
       "      <td>11.499409</td>\n",
       "      <td>38.332576</td>\n",
       "      <td>4.958264</td>\n",
       "      <td>551.620145</td>\n",
       "    </tr>\n",
       "    <tr>\n",
       "      <th>498</th>\n",
       "      <td>33.322501</td>\n",
       "      <td>12.391423</td>\n",
       "      <td>36.840086</td>\n",
       "      <td>2.336485</td>\n",
       "      <td>456.469510</td>\n",
       "    </tr>\n",
       "    <tr>\n",
       "      <th>499</th>\n",
       "      <td>33.715981</td>\n",
       "      <td>12.418808</td>\n",
       "      <td>35.771016</td>\n",
       "      <td>2.735160</td>\n",
       "      <td>497.778642</td>\n",
       "    </tr>\n",
       "  </tbody>\n",
       "</table>\n",
       "<p>500 rows × 5 columns</p>\n",
       "</div>"
      ],
      "text/plain": [
       "     Avg. Session Length  Time on App  Time on Website  Length of Membership  \\\n",
       "0              34.497268    12.655651        39.577668              4.082621   \n",
       "1              31.926272    11.109461        37.268959              2.664034   \n",
       "2              33.000915    11.330278        37.110597              4.104543   \n",
       "3              34.305557    13.717514        36.721283              3.120179   \n",
       "4              33.330673    12.795189        37.536653              4.446308   \n",
       "..                   ...          ...              ...                   ...   \n",
       "495            33.237660    13.566160        36.417985              3.746573   \n",
       "496            34.702529    11.695736        37.190268              3.576526   \n",
       "497            32.646777    11.499409        38.332576              4.958264   \n",
       "498            33.322501    12.391423        36.840086              2.336485   \n",
       "499            33.715981    12.418808        35.771016              2.735160   \n",
       "\n",
       "     Yearly Amount Spent  \n",
       "0             587.951054  \n",
       "1             392.204933  \n",
       "2             487.547505  \n",
       "3             581.852344  \n",
       "4             599.406092  \n",
       "..                   ...  \n",
       "495           573.847438  \n",
       "496           529.049004  \n",
       "497           551.620145  \n",
       "498           456.469510  \n",
       "499           497.778642  \n",
       "\n",
       "[500 rows x 5 columns]"
      ]
     },
     "execution_count": 16,
     "metadata": {},
     "output_type": "execute_result"
    }
   ],
   "source": [
    "data"
   ]
  },
  {
   "cell_type": "markdown",
   "id": "427a2b44",
   "metadata": {},
   "source": [
    "X는 독립변수, y는 종속변수를 의미한다. X는 우리가 예측에 필요한 데이터인 'Avg. Session Length','Time on App','Time on Website','Length of Membership','Yearly Amount Spent' 이고,  y는 Yearly Amount Spent이다."
   ]
  },
  {
   "cell_type": "code",
   "execution_count": 23,
   "id": "ed350330",
   "metadata": {},
   "outputs": [],
   "source": [
    "X = data[['Avg. Session Length','Time on App','Time on Website','Length of Membership']]"
   ]
  },
  {
   "cell_type": "code",
   "execution_count": 24,
   "id": "b9c4c672",
   "metadata": {},
   "outputs": [
    {
     "data": {
      "text/html": [
       "<div>\n",
       "<style scoped>\n",
       "    .dataframe tbody tr th:only-of-type {\n",
       "        vertical-align: middle;\n",
       "    }\n",
       "\n",
       "    .dataframe tbody tr th {\n",
       "        vertical-align: top;\n",
       "    }\n",
       "\n",
       "    .dataframe thead th {\n",
       "        text-align: right;\n",
       "    }\n",
       "</style>\n",
       "<table border=\"1\" class=\"dataframe\">\n",
       "  <thead>\n",
       "    <tr style=\"text-align: right;\">\n",
       "      <th></th>\n",
       "      <th>Avg. Session Length</th>\n",
       "      <th>Time on App</th>\n",
       "      <th>Time on Website</th>\n",
       "      <th>Length of Membership</th>\n",
       "    </tr>\n",
       "  </thead>\n",
       "  <tbody>\n",
       "    <tr>\n",
       "      <th>0</th>\n",
       "      <td>34.497268</td>\n",
       "      <td>12.655651</td>\n",
       "      <td>39.577668</td>\n",
       "      <td>4.082621</td>\n",
       "    </tr>\n",
       "    <tr>\n",
       "      <th>1</th>\n",
       "      <td>31.926272</td>\n",
       "      <td>11.109461</td>\n",
       "      <td>37.268959</td>\n",
       "      <td>2.664034</td>\n",
       "    </tr>\n",
       "    <tr>\n",
       "      <th>2</th>\n",
       "      <td>33.000915</td>\n",
       "      <td>11.330278</td>\n",
       "      <td>37.110597</td>\n",
       "      <td>4.104543</td>\n",
       "    </tr>\n",
       "    <tr>\n",
       "      <th>3</th>\n",
       "      <td>34.305557</td>\n",
       "      <td>13.717514</td>\n",
       "      <td>36.721283</td>\n",
       "      <td>3.120179</td>\n",
       "    </tr>\n",
       "    <tr>\n",
       "      <th>4</th>\n",
       "      <td>33.330673</td>\n",
       "      <td>12.795189</td>\n",
       "      <td>37.536653</td>\n",
       "      <td>4.446308</td>\n",
       "    </tr>\n",
       "    <tr>\n",
       "      <th>...</th>\n",
       "      <td>...</td>\n",
       "      <td>...</td>\n",
       "      <td>...</td>\n",
       "      <td>...</td>\n",
       "    </tr>\n",
       "    <tr>\n",
       "      <th>495</th>\n",
       "      <td>33.237660</td>\n",
       "      <td>13.566160</td>\n",
       "      <td>36.417985</td>\n",
       "      <td>3.746573</td>\n",
       "    </tr>\n",
       "    <tr>\n",
       "      <th>496</th>\n",
       "      <td>34.702529</td>\n",
       "      <td>11.695736</td>\n",
       "      <td>37.190268</td>\n",
       "      <td>3.576526</td>\n",
       "    </tr>\n",
       "    <tr>\n",
       "      <th>497</th>\n",
       "      <td>32.646777</td>\n",
       "      <td>11.499409</td>\n",
       "      <td>38.332576</td>\n",
       "      <td>4.958264</td>\n",
       "    </tr>\n",
       "    <tr>\n",
       "      <th>498</th>\n",
       "      <td>33.322501</td>\n",
       "      <td>12.391423</td>\n",
       "      <td>36.840086</td>\n",
       "      <td>2.336485</td>\n",
       "    </tr>\n",
       "    <tr>\n",
       "      <th>499</th>\n",
       "      <td>33.715981</td>\n",
       "      <td>12.418808</td>\n",
       "      <td>35.771016</td>\n",
       "      <td>2.735160</td>\n",
       "    </tr>\n",
       "  </tbody>\n",
       "</table>\n",
       "<p>500 rows × 4 columns</p>\n",
       "</div>"
      ],
      "text/plain": [
       "     Avg. Session Length  Time on App  Time on Website  Length of Membership\n",
       "0              34.497268    12.655651        39.577668              4.082621\n",
       "1              31.926272    11.109461        37.268959              2.664034\n",
       "2              33.000915    11.330278        37.110597              4.104543\n",
       "3              34.305557    13.717514        36.721283              3.120179\n",
       "4              33.330673    12.795189        37.536653              4.446308\n",
       "..                   ...          ...              ...                   ...\n",
       "495            33.237660    13.566160        36.417985              3.746573\n",
       "496            34.702529    11.695736        37.190268              3.576526\n",
       "497            32.646777    11.499409        38.332576              4.958264\n",
       "498            33.322501    12.391423        36.840086              2.336485\n",
       "499            33.715981    12.418808        35.771016              2.735160\n",
       "\n",
       "[500 rows x 4 columns]"
      ]
     },
     "execution_count": 24,
     "metadata": {},
     "output_type": "execute_result"
    }
   ],
   "source": [
    "X"
   ]
  },
  {
   "cell_type": "code",
   "execution_count": 25,
   "id": "fc55337d",
   "metadata": {},
   "outputs": [],
   "source": [
    "y = data['Yearly Amount Spent']"
   ]
  },
  {
   "cell_type": "code",
   "execution_count": 26,
   "id": "263d18f2",
   "metadata": {},
   "outputs": [
    {
     "data": {
      "text/plain": [
       "0      587.951054\n",
       "1      392.204933\n",
       "2      487.547505\n",
       "3      581.852344\n",
       "4      599.406092\n",
       "          ...    \n",
       "495    573.847438\n",
       "496    529.049004\n",
       "497    551.620145\n",
       "498    456.469510\n",
       "499    497.778642\n",
       "Name: Yearly Amount Spent, Length: 500, dtype: float64"
      ]
     },
     "execution_count": 26,
     "metadata": {},
     "output_type": "execute_result"
    }
   ],
   "source": [
    "y"
   ]
  },
  {
   "cell_type": "code",
   "execution_count": 27,
   "id": "aa68fc59",
   "metadata": {},
   "outputs": [],
   "source": [
    "X_train, X_test, y_train, y_test = train_test_split(X,y)"
   ]
  },
  {
   "cell_type": "markdown",
   "id": "31112fc6",
   "metadata": {},
   "source": [
    "![](fcd.PNG)"
   ]
  },
  {
   "cell_type": "code",
   "execution_count": 28,
   "id": "06115c7b",
   "metadata": {},
   "outputs": [
    {
     "data": {
      "text/html": [
       "<div>\n",
       "<style scoped>\n",
       "    .dataframe tbody tr th:only-of-type {\n",
       "        vertical-align: middle;\n",
       "    }\n",
       "\n",
       "    .dataframe tbody tr th {\n",
       "        vertical-align: top;\n",
       "    }\n",
       "\n",
       "    .dataframe thead th {\n",
       "        text-align: right;\n",
       "    }\n",
       "</style>\n",
       "<table border=\"1\" class=\"dataframe\">\n",
       "  <thead>\n",
       "    <tr style=\"text-align: right;\">\n",
       "      <th></th>\n",
       "      <th>Avg. Session Length</th>\n",
       "      <th>Time on App</th>\n",
       "      <th>Time on Website</th>\n",
       "      <th>Length of Membership</th>\n",
       "    </tr>\n",
       "  </thead>\n",
       "  <tbody>\n",
       "    <tr>\n",
       "      <th>332</th>\n",
       "      <td>33.144234</td>\n",
       "      <td>11.737041</td>\n",
       "      <td>37.935189</td>\n",
       "      <td>2.190132</td>\n",
       "    </tr>\n",
       "    <tr>\n",
       "      <th>68</th>\n",
       "      <td>32.430758</td>\n",
       "      <td>11.306232</td>\n",
       "      <td>37.680403</td>\n",
       "      <td>2.779521</td>\n",
       "    </tr>\n",
       "    <tr>\n",
       "      <th>175</th>\n",
       "      <td>33.308572</td>\n",
       "      <td>11.691686</td>\n",
       "      <td>37.480912</td>\n",
       "      <td>1.715777</td>\n",
       "    </tr>\n",
       "    <tr>\n",
       "      <th>391</th>\n",
       "      <td>33.481931</td>\n",
       "      <td>11.918670</td>\n",
       "      <td>37.317705</td>\n",
       "      <td>3.336339</td>\n",
       "    </tr>\n",
       "    <tr>\n",
       "      <th>84</th>\n",
       "      <td>34.655486</td>\n",
       "      <td>10.338073</td>\n",
       "      <td>36.157256</td>\n",
       "      <td>4.396652</td>\n",
       "    </tr>\n",
       "    <tr>\n",
       "      <th>...</th>\n",
       "      <td>...</td>\n",
       "      <td>...</td>\n",
       "      <td>...</td>\n",
       "      <td>...</td>\n",
       "    </tr>\n",
       "    <tr>\n",
       "      <th>177</th>\n",
       "      <td>34.713451</td>\n",
       "      <td>11.724002</td>\n",
       "      <td>36.813858</td>\n",
       "      <td>4.087837</td>\n",
       "    </tr>\n",
       "    <tr>\n",
       "      <th>207</th>\n",
       "      <td>33.324241</td>\n",
       "      <td>11.084584</td>\n",
       "      <td>36.776017</td>\n",
       "      <td>4.746990</td>\n",
       "    </tr>\n",
       "    <tr>\n",
       "      <th>233</th>\n",
       "      <td>32.004753</td>\n",
       "      <td>11.395209</td>\n",
       "      <td>37.332814</td>\n",
       "      <td>3.803365</td>\n",
       "    </tr>\n",
       "    <tr>\n",
       "      <th>176</th>\n",
       "      <td>32.332637</td>\n",
       "      <td>11.548761</td>\n",
       "      <td>38.576516</td>\n",
       "      <td>4.773503</td>\n",
       "    </tr>\n",
       "    <tr>\n",
       "      <th>425</th>\n",
       "      <td>34.080260</td>\n",
       "      <td>11.591440</td>\n",
       "      <td>36.456898</td>\n",
       "      <td>4.652854</td>\n",
       "    </tr>\n",
       "  </tbody>\n",
       "</table>\n",
       "<p>375 rows × 4 columns</p>\n",
       "</div>"
      ],
      "text/plain": [
       "     Avg. Session Length  Time on App  Time on Website  Length of Membership\n",
       "332            33.144234    11.737041        37.935189              2.190132\n",
       "68             32.430758    11.306232        37.680403              2.779521\n",
       "175            33.308572    11.691686        37.480912              1.715777\n",
       "391            33.481931    11.918670        37.317705              3.336339\n",
       "84             34.655486    10.338073        36.157256              4.396652\n",
       "..                   ...          ...              ...                   ...\n",
       "177            34.713451    11.724002        36.813858              4.087837\n",
       "207            33.324241    11.084584        36.776017              4.746990\n",
       "233            32.004753    11.395209        37.332814              3.803365\n",
       "176            32.332637    11.548761        38.576516              4.773503\n",
       "425            34.080260    11.591440        36.456898              4.652854\n",
       "\n",
       "[375 rows x 4 columns]"
      ]
     },
     "execution_count": 28,
     "metadata": {},
     "output_type": "execute_result"
    }
   ],
   "source": [
    "X_train"
   ]
  },
  {
   "cell_type": "markdown",
   "id": "6adceba8",
   "metadata": {},
   "source": [
    "77%의 데이터가 train 데이터가 나뉘어져 375개의 row와 4개의 컬럼으로 나뉘어진 것을 볼 수 있다. train 데이터와 test 데이터의 사이즈를 지정해 줄 수 있다. default 값은 test data에 33%가 들어가게 지정되어 있다. 아래 코드 처럼 사이즈 지정을 할 수 있다. 데이터가 엄청 많다면 6:4 정도로 나누어도 train 데이터가 많아 훈련하는데 무리가 없지만 데이터의 양이 적으면 8:2나 9:1 로 훈련 데이터 테스트 데이터를 나누는게 훈련하는데 무리가 없다."
   ]
  },
  {
   "cell_type": "markdown",
   "id": "5093f669",
   "metadata": {},
   "source": [
    "random_state는 굳이 안써도 되지만 꼭 써야 하는 이유는 random하게 데이터를 섞기 때문에 다른 사람이 분석할 때 같은 값을 얻기 위함이다. "
   ]
  },
  {
   "cell_type": "code",
   "execution_count": 29,
   "id": "501487e2",
   "metadata": {},
   "outputs": [],
   "source": [
    "X_train, X_test, y_train, y_test = train_test_split(X,y,test_size = 0.2, random_state = 100 )"
   ]
  },
  {
   "cell_type": "code",
   "execution_count": 31,
   "id": "0a364838",
   "metadata": {},
   "outputs": [
    {
     "data": {
      "text/html": [
       "<div>\n",
       "<style scoped>\n",
       "    .dataframe tbody tr th:only-of-type {\n",
       "        vertical-align: middle;\n",
       "    }\n",
       "\n",
       "    .dataframe tbody tr th {\n",
       "        vertical-align: top;\n",
       "    }\n",
       "\n",
       "    .dataframe thead th {\n",
       "        text-align: right;\n",
       "    }\n",
       "</style>\n",
       "<table border=\"1\" class=\"dataframe\">\n",
       "  <thead>\n",
       "    <tr style=\"text-align: right;\">\n",
       "      <th></th>\n",
       "      <th>Avg. Session Length</th>\n",
       "      <th>Time on App</th>\n",
       "      <th>Time on Website</th>\n",
       "      <th>Length of Membership</th>\n",
       "    </tr>\n",
       "  </thead>\n",
       "  <tbody>\n",
       "    <tr>\n",
       "      <th>205</th>\n",
       "      <td>34.967610</td>\n",
       "      <td>13.919494</td>\n",
       "      <td>37.952013</td>\n",
       "      <td>5.066697</td>\n",
       "    </tr>\n",
       "    <tr>\n",
       "      <th>404</th>\n",
       "      <td>32.278443</td>\n",
       "      <td>12.527472</td>\n",
       "      <td>36.688367</td>\n",
       "      <td>3.531402</td>\n",
       "    </tr>\n",
       "    <tr>\n",
       "      <th>337</th>\n",
       "      <td>31.827979</td>\n",
       "      <td>12.461147</td>\n",
       "      <td>37.428997</td>\n",
       "      <td>2.974737</td>\n",
       "    </tr>\n",
       "    <tr>\n",
       "      <th>440</th>\n",
       "      <td>33.200616</td>\n",
       "      <td>11.965980</td>\n",
       "      <td>36.831536</td>\n",
       "      <td>3.549036</td>\n",
       "    </tr>\n",
       "    <tr>\n",
       "      <th>55</th>\n",
       "      <td>33.925297</td>\n",
       "      <td>11.588655</td>\n",
       "      <td>35.252242</td>\n",
       "      <td>3.392050</td>\n",
       "    </tr>\n",
       "    <tr>\n",
       "      <th>...</th>\n",
       "      <td>...</td>\n",
       "      <td>...</td>\n",
       "      <td>...</td>\n",
       "      <td>...</td>\n",
       "    </tr>\n",
       "    <tr>\n",
       "      <th>343</th>\n",
       "      <td>32.302748</td>\n",
       "      <td>12.815393</td>\n",
       "      <td>37.957810</td>\n",
       "      <td>4.615426</td>\n",
       "    </tr>\n",
       "    <tr>\n",
       "      <th>359</th>\n",
       "      <td>32.054262</td>\n",
       "      <td>13.149670</td>\n",
       "      <td>37.650400</td>\n",
       "      <td>4.195614</td>\n",
       "    </tr>\n",
       "    <tr>\n",
       "      <th>323</th>\n",
       "      <td>32.762456</td>\n",
       "      <td>10.952353</td>\n",
       "      <td>37.646292</td>\n",
       "      <td>4.019470</td>\n",
       "    </tr>\n",
       "    <tr>\n",
       "      <th>280</th>\n",
       "      <td>32.271848</td>\n",
       "      <td>13.485009</td>\n",
       "      <td>37.550880</td>\n",
       "      <td>3.086337</td>\n",
       "    </tr>\n",
       "    <tr>\n",
       "      <th>8</th>\n",
       "      <td>33.987773</td>\n",
       "      <td>13.386235</td>\n",
       "      <td>37.534497</td>\n",
       "      <td>3.273434</td>\n",
       "    </tr>\n",
       "  </tbody>\n",
       "</table>\n",
       "<p>400 rows × 4 columns</p>\n",
       "</div>"
      ],
      "text/plain": [
       "     Avg. Session Length  Time on App  Time on Website  Length of Membership\n",
       "205            34.967610    13.919494        37.952013              5.066697\n",
       "404            32.278443    12.527472        36.688367              3.531402\n",
       "337            31.827979    12.461147        37.428997              2.974737\n",
       "440            33.200616    11.965980        36.831536              3.549036\n",
       "55             33.925297    11.588655        35.252242              3.392050\n",
       "..                   ...          ...              ...                   ...\n",
       "343            32.302748    12.815393        37.957810              4.615426\n",
       "359            32.054262    13.149670        37.650400              4.195614\n",
       "323            32.762456    10.952353        37.646292              4.019470\n",
       "280            32.271848    13.485009        37.550880              3.086337\n",
       "8              33.987773    13.386235        37.534497              3.273434\n",
       "\n",
       "[400 rows x 4 columns]"
      ]
     },
     "execution_count": 31,
     "metadata": {},
     "output_type": "execute_result"
    }
   ],
   "source": [
    "X_train"
   ]
  },
  {
   "cell_type": "markdown",
   "id": "03fef1ee",
   "metadata": {},
   "source": [
    "### 5. 리니어 리그레션 모델 만들기"
   ]
  },
  {
   "cell_type": "markdown",
   "id": "0dec7dea",
   "metadata": {},
   "source": [
    "리니어 리그레션을 부를수 있는 모델은 여러 종류가 있다.(오픈소스이기 때문) 여기에선 statsmodels로 모델을 불러오자."
   ]
  },
  {
   "cell_type": "code",
   "execution_count": 32,
   "id": "272f20de",
   "metadata": {},
   "outputs": [],
   "source": [
    "import statsmodels.api as sm"
   ]
  },
  {
   "cell_type": "code",
   "execution_count": 33,
   "id": "a292d3f1",
   "metadata": {},
   "outputs": [],
   "source": [
    "model = sm.OLS(y_train, X_train)"
   ]
  },
  {
   "cell_type": "markdown",
   "id": "dbf004a5",
   "metadata": {},
   "source": [
    "OLS모듈안에 데이터를 넣어주어야 한다. 원래는 X를 먼저 넣어주어야하지만 이 모듈은 y를 먼저 넣어주어야한다."
   ]
  },
  {
   "cell_type": "markdown",
   "id": "c2991dc2",
   "metadata": {},
   "source": [
    "모델을 훈련하기 위해 model.fit() 메서드를 사용한다."
   ]
  },
  {
   "cell_type": "code",
   "execution_count": 35,
   "id": "b846cb17",
   "metadata": {},
   "outputs": [],
   "source": [
    "model = model.fit()"
   ]
  },
  {
   "cell_type": "markdown",
   "id": "4ce64b29",
   "metadata": {},
   "source": [
    "결과를 보기위해 summary() 메서드를 사용한다. 위에서 statsmodule안의 OLS 모듈을 불러온 이유는 summary()를 아래와 같이 보기좋게 잘 표현해 주기 때문이다.\n"
   ]
  },
  {
   "cell_type": "code",
   "execution_count": 36,
   "id": "6cc52fe1",
   "metadata": {},
   "outputs": [
    {
     "data": {
      "text/html": [
       "<table class=\"simpletable\">\n",
       "<caption>OLS Regression Results</caption>\n",
       "<tr>\n",
       "  <th>Dep. Variable:</th>    <td>Yearly Amount Spent</td> <th>  R-squared (uncentered):</th>      <td>   0.998</td> \n",
       "</tr>\n",
       "<tr>\n",
       "  <th>Model:</th>                    <td>OLS</td>         <th>  Adj. R-squared (uncentered):</th> <td>   0.998</td> \n",
       "</tr>\n",
       "<tr>\n",
       "  <th>Method:</th>              <td>Least Squares</td>    <th>  F-statistic:       </th>          <td>4.798e+04</td>\n",
       "</tr>\n",
       "<tr>\n",
       "  <th>Date:</th>              <td>Wed, 09 Jun 2021</td>   <th>  Prob (F-statistic):</th>           <td>  0.00</td>  \n",
       "</tr>\n",
       "<tr>\n",
       "  <th>Time:</th>                  <td>16:21:26</td>       <th>  Log-Likelihood:    </th>          <td> -1820.0</td> \n",
       "</tr>\n",
       "<tr>\n",
       "  <th>No. Observations:</th>       <td>   400</td>        <th>  AIC:               </th>          <td>   3648.</td> \n",
       "</tr>\n",
       "<tr>\n",
       "  <th>Df Residuals:</th>           <td>   396</td>        <th>  BIC:               </th>          <td>   3664.</td> \n",
       "</tr>\n",
       "<tr>\n",
       "  <th>Df Model:</th>               <td>     4</td>        <th>                     </th>              <td> </td>    \n",
       "</tr>\n",
       "<tr>\n",
       "  <th>Covariance Type:</th>       <td>nonrobust</td>      <th>                     </th>              <td> </td>    \n",
       "</tr>\n",
       "</table>\n",
       "<table class=\"simpletable\">\n",
       "<tr>\n",
       "            <td></td>              <th>coef</th>     <th>std err</th>      <th>t</th>      <th>P>|t|</th>  <th>[0.025</th>    <th>0.975]</th>  \n",
       "</tr>\n",
       "<tr>\n",
       "  <th>Avg. Session Length</th>  <td>   11.9059</td> <td>    0.869</td> <td>   13.696</td> <td> 0.000</td> <td>   10.197</td> <td>   13.615</td>\n",
       "</tr>\n",
       "<tr>\n",
       "  <th>Time on App</th>          <td>   34.3257</td> <td>    1.121</td> <td>   30.610</td> <td> 0.000</td> <td>   32.121</td> <td>   36.530</td>\n",
       "</tr>\n",
       "<tr>\n",
       "  <th>Time on Website</th>      <td>  -14.1405</td> <td>    0.812</td> <td>  -17.405</td> <td> 0.000</td> <td>  -15.738</td> <td>  -12.543</td>\n",
       "</tr>\n",
       "<tr>\n",
       "  <th>Length of Membership</th> <td>   61.0149</td> <td>    1.144</td> <td>   53.318</td> <td> 0.000</td> <td>   58.765</td> <td>   63.265</td>\n",
       "</tr>\n",
       "</table>\n",
       "<table class=\"simpletable\">\n",
       "<tr>\n",
       "  <th>Omnibus:</th>       <td> 0.490</td> <th>  Durbin-Watson:     </th> <td>   1.987</td>\n",
       "</tr>\n",
       "<tr>\n",
       "  <th>Prob(Omnibus):</th> <td> 0.783</td> <th>  Jarque-Bera (JB):  </th> <td>   0.606</td>\n",
       "</tr>\n",
       "<tr>\n",
       "  <th>Skew:</th>          <td>-0.022</td> <th>  Prob(JB):          </th> <td>   0.739</td>\n",
       "</tr>\n",
       "<tr>\n",
       "  <th>Kurtosis:</th>      <td> 2.814</td> <th>  Cond. No.          </th> <td>    55.4</td>\n",
       "</tr>\n",
       "</table><br/><br/>Notes:<br/>[1] R² is computed without centering (uncentered) since the model does not contain a constant.<br/>[2] Standard Errors assume that the covariance matrix of the errors is correctly specified."
      ],
      "text/plain": [
       "<class 'statsmodels.iolib.summary.Summary'>\n",
       "\"\"\"\n",
       "                                 OLS Regression Results                                 \n",
       "========================================================================================\n",
       "Dep. Variable:     Yearly Amount Spent   R-squared (uncentered):                   0.998\n",
       "Model:                             OLS   Adj. R-squared (uncentered):              0.998\n",
       "Method:                  Least Squares   F-statistic:                          4.798e+04\n",
       "Date:                 Wed, 09 Jun 2021   Prob (F-statistic):                        0.00\n",
       "Time:                         16:21:26   Log-Likelihood:                         -1820.0\n",
       "No. Observations:                  400   AIC:                                      3648.\n",
       "Df Residuals:                      396   BIC:                                      3664.\n",
       "Df Model:                            4                                                  \n",
       "Covariance Type:             nonrobust                                                  \n",
       "========================================================================================\n",
       "                           coef    std err          t      P>|t|      [0.025      0.975]\n",
       "----------------------------------------------------------------------------------------\n",
       "Avg. Session Length     11.9059      0.869     13.696      0.000      10.197      13.615\n",
       "Time on App             34.3257      1.121     30.610      0.000      32.121      36.530\n",
       "Time on Website        -14.1405      0.812    -17.405      0.000     -15.738     -12.543\n",
       "Length of Membership    61.0149      1.144     53.318      0.000      58.765      63.265\n",
       "==============================================================================\n",
       "Omnibus:                        0.490   Durbin-Watson:                   1.987\n",
       "Prob(Omnibus):                  0.783   Jarque-Bera (JB):                0.606\n",
       "Skew:                          -0.022   Prob(JB):                        0.739\n",
       "Kurtosis:                       2.814   Cond. No.                         55.4\n",
       "==============================================================================\n",
       "\n",
       "Notes:\n",
       "[1] R² is computed without centering (uncentered) since the model does not contain a constant.\n",
       "[2] Standard Errors assume that the covariance matrix of the errors is correctly specified.\n",
       "\"\"\""
      ]
     },
     "execution_count": 36,
     "metadata": {},
     "output_type": "execute_result"
    }
   ],
   "source": [
    "model.summary()"
   ]
  },
  {
   "cell_type": "markdown",
   "id": "f4bf1296",
   "metadata": {},
   "source": [
    "- R-squeare : 클수록 좋은 모델, Adj.가 더욱 적절한 평가기준이다.\n",
    "- Coef : 변수의 영향력 (강도와 방향)\n",
    "- P-value : 신뢰할 수 있는 결과인가에 대한 척도이다. 0.05 이하면 양호하다 판단한다.\n"
   ]
  },
  {
   "cell_type": "markdown",
   "id": "ac9616cd",
   "metadata": {},
   "source": [
    "### 6. 모델을 활용하여 예측하고 평가하기"
   ]
  },
  {
   "cell_type": "markdown",
   "id": "3f752c24",
   "metadata": {},
   "source": [
    "predict() 메서드를 이용하여 예측을 해보자."
   ]
  },
  {
   "cell_type": "code",
   "execution_count": 40,
   "id": "83c186df",
   "metadata": {},
   "outputs": [],
   "source": [
    "pred = model.predict(X_test)"
   ]
  },
  {
   "cell_type": "code",
   "execution_count": 41,
   "id": "3ec0b1a0",
   "metadata": {},
   "outputs": [
    {
     "data": {
      "text/plain": [
       "69     418.211323\n",
       "29     567.097473\n",
       "471    534.706617\n",
       "344    425.690888\n",
       "54     474.931682\n",
       "          ...    \n",
       "460    570.877250\n",
       "152    564.267305\n",
       "154    557.093996\n",
       "56     489.285778\n",
       "392    550.720695\n",
       "Length: 100, dtype: float64"
      ]
     },
     "execution_count": 41,
     "metadata": {},
     "output_type": "execute_result"
    }
   ],
   "source": [
    "pred"
   ]
  },
  {
   "cell_type": "markdown",
   "id": "524684c0",
   "metadata": {},
   "source": [
    "위 처럼 예측값이 나왔다. 이것을 이미 알고 있는 값인 y_test와 비교할 수 있다."
   ]
  },
  {
   "cell_type": "code",
   "execution_count": 38,
   "id": "2db016ae",
   "metadata": {},
   "outputs": [
    {
     "data": {
      "text/plain": [
       "69     451.575685\n",
       "29     554.722084\n",
       "471    541.049831\n",
       "344    442.722892\n",
       "54     522.404141\n",
       "          ...    \n",
       "460    618.845970\n",
       "152    555.892595\n",
       "154    595.803819\n",
       "56     520.898794\n",
       "392    549.131573\n",
       "Name: Yearly Amount Spent, Length: 100, dtype: float64"
      ]
     },
     "execution_count": 38,
     "metadata": {},
     "output_type": "execute_result"
    }
   ],
   "source": [
    "y_test"
   ]
  },
  {
   "cell_type": "markdown",
   "id": "8811368f",
   "metadata": {},
   "source": [
    "예측값과 약간 차이가 나는 것을 알 수 있다. 이렇게 비교를 하면 얼마나 좋은지 나쁜지 알 수가 없어 여러가지 방법을 통해 비교해 보자."
   ]
  },
  {
   "cell_type": "markdown",
   "id": "93c036a6",
   "metadata": {},
   "source": [
    "비교방법의 첫 번째로 그림을 그려 비교해 보자."
   ]
  },
  {
   "cell_type": "code",
   "execution_count": 43,
   "id": "2664ccb9",
   "metadata": {},
   "outputs": [
    {
     "data": {
      "text/plain": [
       "<AxesSubplot:xlabel='Yearly Amount Spent'>"
      ]
     },
     "execution_count": 43,
     "metadata": {},
     "output_type": "execute_result"
    },
    {
     "data": {
      "image/png": "[encoded data removed]",
      "text/plain": [
       "<Figure size 432x288 with 1 Axes>"
      ]
     },
     "metadata": {
      "needs_background": "light"
     },
     "output_type": "display_data"
    }
   ],
   "source": [
    "sns.scatterplot(x=y_test, y=pred)"
   ]
  },
  {
   "cell_type": "markdown",
   "id": "144cb463",
   "metadata": {},
   "source": [
    "x축과 y축의 비율이이 안맞아서 아래와 같이 비율을 맞추는 코드를 입력하여 다시 실행해 보자."
   ]
  },
  {
   "cell_type": "code",
   "execution_count": 44,
   "id": "f78ef530",
   "metadata": {},
   "outputs": [
    {
     "data": {
      "text/plain": [
       "<AxesSubplot:xlabel='Yearly Amount Spent'>"
      ]
     },
     "execution_count": 44,
     "metadata": {},
     "output_type": "execute_result"
    },
    {
     "data": {
      "image/png": "[encoded data removed]",
      "text/plain": [
       "<Figure size 720x720 with 1 Axes>"
      ]
     },
     "metadata": {
      "needs_background": "light"
     },
     "output_type": "display_data"
    }
   ],
   "source": [
    "plt.figure(figsize=(10,10))\n",
    "sns.scatterplot(x=y_test, y=pred)"
   ]
  },
  {
   "cell_type": "markdown",
   "id": "8732cb74",
   "metadata": {},
   "source": [
    "위 그림을 확인해 보면 완전히 일치하지는 않지만 어느정도 예측이 잘 된거라 볼수 있다. 예측이 잘못되었다면 점들이 사방팔방으로 찍혀 있을 것이다."
   ]
  },
  {
   "cell_type": "markdown",
   "id": "94dd7b11",
   "metadata": {},
   "source": [
    "### MSE (Mean Squared Error)"
   ]
  },
  {
   "cell_type": "markdown",
   "id": "2a61677e",
   "metadata": {},
   "source": [
    "MSE란 실제값과 예측값의 차이를 얘기해 준다. 이 차이가 얼마나 나느냐에 따라 예측이 잘되었는지 안되었는지 수치화 해서 설명해 줄 수 있다. 이 차이는 작을 수록 좋다. 이것을 MSE 방법으로 수치화 해보자."
   ]
  },
  {
   "cell_type": "markdown",
   "id": "86882bed",
   "metadata": {},
   "source": [
    "이 에러들을 모두 합해서 평균하면 문제가 생기는데 실제값에서 예측값을 빼거나 예측값에서 실제값을 빼면 방향성에서 문제가 생길 수 있다. 즉 마이너스가 생겨 플러스가 된 에러와 상쇄되어 0에 가까워진다. 그렇게 되면 차이를 정확하게 알 수 가 없다."
   ]
  },
  {
   "cell_type": "markdown",
   "id": "5376c811",
   "metadata": {},
   "source": [
    "따라서 절댓값을 쓰거나 제곱을 사용하여 이 문제를 해결할 수 있다. MSE는 제곱을 사용하는 방법이다."
   ]
  },
  {
   "cell_type": "code",
   "execution_count": 45,
   "id": "bf4077fc",
   "metadata": {},
   "outputs": [],
   "source": [
    "from sklearn.metrics import mean_squared_error"
   ]
  },
  {
   "cell_type": "code",
   "execution_count": 46,
   "id": "3777d003",
   "metadata": {},
   "outputs": [
    {
     "data": {
      "text/plain": [
       "482.28901390889973"
      ]
     },
     "execution_count": 46,
     "metadata": {},
     "output_type": "execute_result"
    }
   ],
   "source": [
    "mean_squared_error(y_test,pred)"
   ]
  },
  {
   "cell_type": "markdown",
   "id": "8f4a2789",
   "metadata": {},
   "source": [
    "482.289라는 수치가 나오는데 이것이 좋은지 나쁜지는 알 수 없다. 다른 모델과 비교했을 때 어떤 모델의 MSE가 낮은지를 보고 판단할 수 있지만 이 수치로서는 정확하게 판단할 수 는 없다. 즉 상대적인 수치라고 보면 된다."
   ]
  },
  {
   "cell_type": "markdown",
   "id": "3c59f262",
   "metadata": {},
   "source": [
    "이번엔 MSE보다 한단계 더 자주 쓰이는 방법을 알아보자."
   ]
  },
  {
   "cell_type": "markdown",
   "id": "b91d6b0b",
   "metadata": {},
   "source": [
    "### RMSE(Root Mean Squared Error)\n"
   ]
  },
  {
   "cell_type": "markdown",
   "id": "13134811",
   "metadata": {},
   "source": [
    "RMSE는 MSE에다가 루트를 씌워주는 방법이다. 이 방법이 왜 좋냐면 MSE는 제곱을 함으로써 에러값이 껑충 뛰어 계산이 된다. 위의 482라는 숫자가 원래 있던 y값의 스케일에 비해 커진 느낌을 준다. 따라서 이 차이를 줄이기 위해 루트를 씌워준다. 여러 방법이 있지만 아래의 코드를 따라해보자."
   ]
  },
  {
   "cell_type": "code",
   "execution_count": 48,
   "id": "c1175ca1",
   "metadata": {},
   "outputs": [
    {
     "data": {
      "text/plain": [
       "21.961079525125804"
      ]
     },
     "execution_count": 48,
     "metadata": {},
     "output_type": "execute_result"
    }
   ],
   "source": [
    "np.sqrt(mean_squared_error(y_test,pred))"
   ]
  },
  {
   "cell_type": "markdown",
   "id": "98edf2c4",
   "metadata": {},
   "source": [
    "21.96 정도의 값이 RMSE 값이다. describe()로 확인해 보았던 Yearly Amount Spent의 mean값이 499였는데 여기서 21정도의 에러가 보인다로 해석할 수 있다. 예측치와 실제 데이터 값이 21 정도의 차이가 난다. 하지만 역시 Rmse도 모델간이 비교하기 위한 상대적인 수치라는 것을 명심하자. 즉 좋은지 나쁜지는 알 수 없다는 것이다."
   ]
  },
  {
   "cell_type": "markdown",
   "id": "60d85720",
   "metadata": {},
   "source": [
    "출처 : [패스트캠퍼스](파이썬을 활용한 이커머스 데이터 분석)"
   ]
  }
 ],
 "metadata": {
  "kernelspec": {
   "display_name": "Python 3",
   "language": "python",
   "name": "python3"
  },
  "language_info": {
   "codemirror_mode": {
    "name": "ipython",
    "version": 3
   },
   "file_extension": ".py",
   "mimetype": "text/x-python",
   "name": "python",
   "nbconvert_exporter": "python",
   "pygments_lexer": "ipython3",
   "version": "3.6.9"
  }
 },
 "nbformat": 4,
 "nbformat_minor": 5
}
