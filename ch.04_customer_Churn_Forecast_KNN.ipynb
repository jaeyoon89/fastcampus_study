{
 "cells": [
  {
   "cell_type": "markdown",
   "id": "e600421a",
   "metadata": {},
   "source": [
    "# [FastCampus] 파이썬을 활용한 이커머스 데이터 분석하기"
   ]
  },
  {
   "cell_type": "markdown",
   "id": "b44e895c",
   "metadata": {},
   "source": [
    "## Ch04. 고객 이탈 예측(KNN)"
   ]
  },
  {
   "cell_type": "markdown",
   "id": "c8c2fb32",
   "metadata": {},
   "source": [
    "### 01. 분석의 목적"
   ]
  },
  {
   "cell_type": "markdown",
   "id": "1704c832",
   "metadata": {},
   "source": [
    "- KNN 알고리즘으로 고객이탈(customer churn)을 예측\n",
    "- Binary Classification(고객 이탈을 한다 안한다를 예측하기 때문이다.)\n",
    "- 통신사 고객데이터를 이용하여 유추해 보려한다. 통신사 고객 데이터는 고객 이탈이 빈번하기 때문에 이번 주제에 알맞는 데이터이다."
   ]
  },
  {
   "cell_type": "markdown",
   "id": "d0266bce",
   "metadata": {},
   "source": [
    "### 02. KNN의 원리"
   ]
  },
  {
   "cell_type": "markdown",
   "id": "9fbe6107",
   "metadata": {},
   "source": [
    "KNN의 뜻은 K-Nearly-Neighbors의 약자로 새로운 데이터의 특성을 가장 가까운 데이터의 특성을 이용하여 예측하는 방식이다."
   ]
  },
  {
   "cell_type": "markdown",
   "id": "c341e26c",
   "metadata": {},
   "source": [
    "### 03. 파이썬 Tip - list"
   ]
  },
  {
   "cell_type": "markdown",
   "id": "7d126a74",
   "metadata": {},
   "source": [
    "아래 코드와 같이 대괄호를 이용하여 리스트를 만든다. "
   ]
  },
  {
   "cell_type": "code",
   "execution_count": 6,
   "id": "4b6933d2",
   "metadata": {},
   "outputs": [],
   "source": [
    "x = [1,2,3] "
   ]
  },
  {
   "cell_type": "code",
   "execution_count": 7,
   "id": "6c3ab850",
   "metadata": {},
   "outputs": [
    {
     "data": {
      "text/plain": [
       "['a', 'b', 'c']"
      ]
     },
     "execution_count": 7,
     "metadata": {},
     "output_type": "execute_result"
    }
   ],
   "source": [
    "['a','b','c']"
   ]
  },
  {
   "cell_type": "markdown",
   "id": "4f507766",
   "metadata": {},
   "source": [
    "리스트 안에 리스트도 만들 수 있다."
   ]
  },
  {
   "cell_type": "code",
   "execution_count": 8,
   "id": "d6aee9b6",
   "metadata": {},
   "outputs": [],
   "source": [
    "y = [1,2,3,[4,5]]"
   ]
  },
  {
   "cell_type": "markdown",
   "id": "3f16da27",
   "metadata": {},
   "source": [
    "위 코드는 리스트가 4개 들어가 있는 형식이라 볼 수 있다."
   ]
  },
  {
   "cell_type": "markdown",
   "id": "c782c87d",
   "metadata": {},
   "source": [
    "데이터의 길이를 확인하려면 len() 메서드를 사용하면 된다."
   ]
  },
  {
   "cell_type": "code",
   "execution_count": 9,
   "id": "1e2bb73a",
   "metadata": {},
   "outputs": [
    {
     "data": {
      "text/plain": [
       "3"
      ]
     },
     "execution_count": 9,
     "metadata": {},
     "output_type": "execute_result"
    }
   ],
   "source": [
    "len(x)"
   ]
  },
  {
   "cell_type": "code",
   "execution_count": 10,
   "id": "7ad18198",
   "metadata": {},
   "outputs": [
    {
     "data": {
      "text/plain": [
       "4"
      ]
     },
     "execution_count": 10,
     "metadata": {},
     "output_type": "execute_result"
    }
   ],
   "source": [
    "len(y)"
   ]
  },
  {
   "cell_type": "code",
   "execution_count": 11,
   "id": "e3526b75",
   "metadata": {},
   "outputs": [],
   "source": [
    "my_list = [1,2,3,4,5]"
   ]
  },
  {
   "cell_type": "code",
   "execution_count": 12,
   "id": "f1bb07d1",
   "metadata": {},
   "outputs": [
    {
     "data": {
      "text/plain": [
       "[1, 2, 3, 4, 5]"
      ]
     },
     "execution_count": 12,
     "metadata": {},
     "output_type": "execute_result"
    }
   ],
   "source": [
    "my_list"
   ]
  },
  {
   "cell_type": "markdown",
   "id": "a6328a96",
   "metadata": {},
   "source": [
    "appen() 메서드를 이용하면 리스트에 새로운 데이터를 추가로 넣어 줄 수 있다."
   ]
  },
  {
   "cell_type": "code",
   "execution_count": 13,
   "id": "705ddec4",
   "metadata": {},
   "outputs": [],
   "source": [
    "my_list.append(6)"
   ]
  },
  {
   "cell_type": "code",
   "execution_count": 14,
   "id": "f19c6a7a",
   "metadata": {},
   "outputs": [
    {
     "data": {
      "text/plain": [
       "[1, 2, 3, 4, 5, 6]"
      ]
     },
     "execution_count": 14,
     "metadata": {},
     "output_type": "execute_result"
    }
   ],
   "source": [
    "my_list"
   ]
  },
  {
   "cell_type": "markdown",
   "id": "81e4dc55",
   "metadata": {},
   "source": [
    "6이 추가된 것을 볼 수 있다. 문자도 넣어줄 수 있다."
   ]
  },
  {
   "cell_type": "code",
   "execution_count": 15,
   "id": "8cb0c991",
   "metadata": {},
   "outputs": [],
   "source": [
    "my_list.append('a')"
   ]
  },
  {
   "cell_type": "code",
   "execution_count": 16,
   "id": "9979158e",
   "metadata": {},
   "outputs": [
    {
     "data": {
      "text/plain": [
       "[1, 2, 3, 4, 5, 6, 'a']"
      ]
     },
     "execution_count": 16,
     "metadata": {},
     "output_type": "execute_result"
    }
   ],
   "source": [
    "my_list"
   ]
  },
  {
   "cell_type": "code",
   "execution_count": null,
   "id": "a2d89d8a",
   "metadata": {},
   "outputs": [],
   "source": []
  }
 ],
 "metadata": {
  "kernelspec": {
   "display_name": "Python 3",
   "language": "python",
   "name": "python3"
  },
  "language_info": {
   "codemirror_mode": {
    "name": "ipython",
    "version": 3
   },
   "file_extension": ".py",
   "mimetype": "text/x-python",
   "name": "python",
   "nbconvert_exporter": "python",
   "pygments_lexer": "ipython3",
   "version": "3.6.9"
  }
 },
 "nbformat": 4,
 "nbformat_minor": 5
}
