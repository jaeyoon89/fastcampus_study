{
 "cells": [
  {
   "cell_type": "markdown",
   "id": "221064b3",
   "metadata": {},
   "source": [
    "# [FastCampus] 파이썬을 활용한 이커머스 데이터 분석하기"
   ]
  },
  {
   "cell_type": "markdown",
   "id": "5c984443",
   "metadata": {},
   "source": [
    "## Ch03. 광고 반응률 예측"
   ]
  },
  {
   "cell_type": "markdown",
   "id": "9d35a90a",
   "metadata": {},
   "source": [
    "### 01. 분석의 목적"
   ]
  },
  {
   "cell_type": "markdown",
   "id": "9bcad9aa",
   "metadata": {},
   "source": [
    "- Logistic Regression을 사용하여 고객별 반응율을 예측해보자.\n",
    "- 연속된 값이 아닌 Yes or no 두 가지중 어디에 속하는지 이진분류를 예측하는 머신러닝 알고리즘이다."
   ]
  },
  {
   "cell_type": "code",
   "execution_count": null,
   "id": "b03009db",
   "metadata": {},
   "outputs": [],
   "source": []
  }
 ],
 "metadata": {
  "kernelspec": {
   "display_name": "Python 3",
   "language": "python",
   "name": "python3"
  },
  "language_info": {
   "codemirror_mode": {
    "name": "ipython",
    "version": 3
   },
   "file_extension": ".py",
   "mimetype": "text/x-python",
   "name": "python",
   "nbconvert_exporter": "python",
   "pygments_lexer": "ipython3",
   "version": "3.6.9"
  }
 },
 "nbformat": 4,
 "nbformat_minor": 5
}
