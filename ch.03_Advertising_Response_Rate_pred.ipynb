{
 "cells": [
  {
   "cell_type": "markdown",
   "id": "221064b3",
   "metadata": {},
   "source": [
    "# [FastCampus] 파이썬을 활용한 이커머스 데이터 분석하기"
   ]
  },
  {
   "cell_type": "markdown",
   "id": "5c984443",
   "metadata": {},
   "source": [
    "## Ch03. 광고 반응률 예측"
   ]
  },
  {
   "cell_type": "code",
   "execution_count": null,
   "id": "b3bb8dd7",
   "metadata": {},
   "outputs": [],
   "source": []
  }
 ],
 "metadata": {
  "kernelspec": {
   "display_name": "Python 3",
   "language": "python",
   "name": "python3"
  },
  "language_info": {
   "codemirror_mode": {
    "name": "ipython",
    "version": 3
   },
   "file_extension": ".py",
   "mimetype": "text/x-python",
   "name": "python",
   "nbconvert_exporter": "python",
   "pygments_lexer": "ipython3",
   "version": "3.6.9"
  }
 },
 "nbformat": 4,
 "nbformat_minor": 5
}
