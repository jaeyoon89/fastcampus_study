{
 "cells": [
  {
   "cell_type": "markdown",
   "id": "d3efb099",
   "metadata": {},
   "source": [
    "# [FastCampus] 파이썬을 활용한 이커머스 데이터 분석하기"
   ]
  },
  {
   "cell_type": "markdown",
   "id": "ea8bf876",
   "metadata": {},
   "source": [
    "## Ch05. 구매 요인 분석(Dicision Tree)"
   ]
  },
  {
   "cell_type": "markdown",
   "id": "575c28bd",
   "metadata": {},
   "source": [
    "### 01. 분석의 목적"
   ]
  },
  {
   "cell_type": "markdown",
   "id": "a25a4ad9",
   "metadata": {},
   "source": [
    "- Decision Tree 모델을 통하여 온라인 경매 아이템 판매여부를 예측하고 각 변수의 영향도를 확인하자.\n",
    "- 아이템의 판매 여부를 예측하고, 변수들이 판매의 영향을 얼마나 끼치는지에 대해 알아보자.\n"
   ]
  },
  {
   "cell_type": "markdown",
   "id": "dba6e8e3",
   "metadata": {},
   "source": [
    "### 02. 모듈, 데이터 로딩 및 데이터 확인"
   ]
  },
  {
   "cell_type": "code",
   "execution_count": null,
   "id": "54852960",
   "metadata": {},
   "outputs": [],
   "source": []
  }
 ],
 "metadata": {
  "kernelspec": {
   "display_name": "Python 3",
   "language": "python",
   "name": "python3"
  },
  "language_info": {
   "codemirror_mode": {
    "name": "ipython",
    "version": 3
   },
   "file_extension": ".py",
   "mimetype": "text/x-python",
   "name": "python",
   "nbconvert_exporter": "python",
   "pygments_lexer": "ipython3",
   "version": "3.6.9"
  }
 },
 "nbformat": 4,
 "nbformat_minor": 5
}
