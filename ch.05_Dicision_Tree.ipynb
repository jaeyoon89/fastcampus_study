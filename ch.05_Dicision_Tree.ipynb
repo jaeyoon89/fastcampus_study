{
 "cells": [
  {
   "cell_type": "markdown",
   "id": "d3efb099",
   "metadata": {},
   "source": [
    "# [FastCampus] 파이썬을 활용한 이커머스 데이터 분석하기"
   ]
  },
  {
   "cell_type": "markdown",
   "id": "ea8bf876",
   "metadata": {},
   "source": [
    "## Ch05. 구매 요인 분석(Dicision Tree)"
   ]
  },
  {
   "cell_type": "markdown",
   "id": "575c28bd",
   "metadata": {},
   "source": [
    "### 01. 분석의 목적"
   ]
  },
  {
   "cell_type": "markdown",
   "id": "a25a4ad9",
   "metadata": {},
   "source": [
    "- Decision Tree 모델을 통하여 온라인 경매 아이템 판매여부를 예측하고 각 변수의 영향도를 확인하자.\n",
    "- 아이템의 판매 여부를 예측하고, 변수들이 판매의 영향을 얼마나 끼치는지에 대해 알아보자.\n"
   ]
  },
  {
   "cell_type": "markdown",
   "id": "f290a7e5",
   "metadata": {},
   "source": [
    "### 02. 모듈, 데이터 로딩 및 데이터 확인"
   ]
  },
  {
   "cell_type": "markdown",
   "id": "86d6dfb5",
   "metadata": {},
   "source": [
    "필요한 모듈 및 데이터를 불러오자."
   ]
  },
  {
   "cell_type": "code",
   "execution_count": 1,
   "id": "a37b1b40",
   "metadata": {},
   "outputs": [],
   "source": [
    "import pandas as pd\n",
    "import numpy as np\n",
    "import matplotlib.pyplot as plt\n",
    "import seaborn as sns"
   ]
  },
  {
   "cell_type": "code",
   "execution_count": 2,
   "id": "0a28bfc3",
   "metadata": {},
   "outputs": [],
   "source": [
    "data = pd.read_csv('galaxy.csv')"
   ]
  },
  {
   "cell_type": "code",
   "execution_count": 3,
   "id": "f2b4b93d",
   "metadata": {},
   "outputs": [
    {
     "data": {
      "text/html": [
       "<div>\n",
       "<style scoped>\n",
       "    .dataframe tbody tr th:only-of-type {\n",
       "        vertical-align: middle;\n",
       "    }\n",
       "\n",
       "    .dataframe tbody tr th {\n",
       "        vertical-align: top;\n",
       "    }\n",
       "\n",
       "    .dataframe thead th {\n",
       "        text-align: right;\n",
       "    }\n",
       "</style>\n",
       "<table border=\"1\" class=\"dataframe\">\n",
       "  <thead>\n",
       "    <tr style=\"text-align: right;\">\n",
       "      <th></th>\n",
       "      <th>BuyItNow</th>\n",
       "      <th>startprice</th>\n",
       "      <th>carrier</th>\n",
       "      <th>color</th>\n",
       "      <th>productline</th>\n",
       "      <th>noDescription</th>\n",
       "      <th>charCountDescription</th>\n",
       "      <th>upperCaseDescription</th>\n",
       "      <th>sold</th>\n",
       "    </tr>\n",
       "  </thead>\n",
       "  <tbody>\n",
       "    <tr>\n",
       "      <th>0</th>\n",
       "      <td>0</td>\n",
       "      <td>199.99</td>\n",
       "      <td>None</td>\n",
       "      <td>White</td>\n",
       "      <td>Galaxy_S9</td>\n",
       "      <td>contains description</td>\n",
       "      <td>0</td>\n",
       "      <td>0</td>\n",
       "      <td>1</td>\n",
       "    </tr>\n",
       "    <tr>\n",
       "      <th>1</th>\n",
       "      <td>0</td>\n",
       "      <td>235.00</td>\n",
       "      <td>None</td>\n",
       "      <td>NaN</td>\n",
       "      <td>Galaxy_Note9</td>\n",
       "      <td>contains description</td>\n",
       "      <td>0</td>\n",
       "      <td>0</td>\n",
       "      <td>0</td>\n",
       "    </tr>\n",
       "    <tr>\n",
       "      <th>2</th>\n",
       "      <td>0</td>\n",
       "      <td>199.99</td>\n",
       "      <td>NaN</td>\n",
       "      <td>NaN</td>\n",
       "      <td>Unknown</td>\n",
       "      <td>no description</td>\n",
       "      <td>100</td>\n",
       "      <td>2</td>\n",
       "      <td>0</td>\n",
       "    </tr>\n",
       "    <tr>\n",
       "      <th>3</th>\n",
       "      <td>1</td>\n",
       "      <td>175.00</td>\n",
       "      <td>AT&amp;T</td>\n",
       "      <td>Space Gray</td>\n",
       "      <td>Galaxy_Note9</td>\n",
       "      <td>contains description</td>\n",
       "      <td>0</td>\n",
       "      <td>0</td>\n",
       "      <td>1</td>\n",
       "    </tr>\n",
       "    <tr>\n",
       "      <th>4</th>\n",
       "      <td>1</td>\n",
       "      <td>100.00</td>\n",
       "      <td>None</td>\n",
       "      <td>Space Gray</td>\n",
       "      <td>Galaxy_S8</td>\n",
       "      <td>contains description</td>\n",
       "      <td>0</td>\n",
       "      <td>0</td>\n",
       "      <td>1</td>\n",
       "    </tr>\n",
       "  </tbody>\n",
       "</table>\n",
       "</div>"
      ],
      "text/plain": [
       "   BuyItNow  startprice carrier       color   productline  \\\n",
       "0         0      199.99    None       White     Galaxy_S9   \n",
       "1         0      235.00    None         NaN  Galaxy_Note9   \n",
       "2         0      199.99     NaN         NaN       Unknown   \n",
       "3         1      175.00    AT&T  Space Gray  Galaxy_Note9   \n",
       "4         1      100.00    None  Space Gray     Galaxy_S8   \n",
       "\n",
       "          noDescription  charCountDescription  upperCaseDescription  sold  \n",
       "0  contains description                     0                     0     1  \n",
       "1  contains description                     0                     0     0  \n",
       "2        no description                   100                     2     0  \n",
       "3  contains description                     0                     0     1  \n",
       "4  contains description                     0                     0     1  "
      ]
     },
     "execution_count": 3,
     "metadata": {},
     "output_type": "execute_result"
    }
   ],
   "source": [
    "data.head()"
   ]
  },
  {
   "cell_type": "code",
   "execution_count": null,
   "id": "1f4484f7",
   "metadata": {},
   "outputs": [],
   "source": []
  }
 ],
 "metadata": {
  "kernelspec": {
   "display_name": "Python 3",
   "language": "python",
   "name": "python3"
  },
  "language_info": {
   "codemirror_mode": {
    "name": "ipython",
    "version": 3
   },
   "file_extension": ".py",
   "mimetype": "text/x-python",
   "name": "python",
   "nbconvert_exporter": "python",
   "pygments_lexer": "ipython3",
   "version": "3.6.9"
  }
 },
 "nbformat": 4,
 "nbformat_minor": 5
}
