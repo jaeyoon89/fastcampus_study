{
 "cells": [
  {
   "cell_type": "markdown",
   "id": "d3efb099",
   "metadata": {},
   "source": [
    "# [FastCampus] 파이썬을 활용한 이커머스 데이터 분석하기"
   ]
  },
  {
   "cell_type": "markdown",
   "id": "ea8bf876",
   "metadata": {},
   "source": [
    "## Ch05. 구매 요인 분석(Dicision Tree)"
   ]
  },
  {
   "cell_type": "markdown",
   "id": "575c28bd",
   "metadata": {},
   "source": [
    "### 01. 분석의 목적"
   ]
  },
  {
   "cell_type": "markdown",
   "id": "a25a4ad9",
   "metadata": {},
   "source": [
    "구매요인 분석하기\n"
   ]
  }
 ],
 "metadata": {
  "kernelspec": {
   "display_name": "Python 3",
   "language": "python",
   "name": "python3"
  },
  "language_info": {
   "codemirror_mode": {
    "name": "ipython",
    "version": 3
   },
   "file_extension": ".py",
   "mimetype": "text/x-python",
   "name": "python",
   "nbconvert_exporter": "python",
   "pygments_lexer": "ipython3",
   "version": "3.6.9"
  }
 },
 "nbformat": 4,
 "nbformat_minor": 5
}
